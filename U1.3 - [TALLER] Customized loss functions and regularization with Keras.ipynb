{
 "cells": [
  {
   "cell_type": "markdown",
   "metadata": {},
   "source": [
    "## Loading the Fashion MNIST database..."
   ]
  },
  {
   "cell_type": "code",
   "execution_count": 100,
   "metadata": {},
   "outputs": [],
   "source": [
    "import os\n",
    "import gzip\n",
    "import numpy as np\n",
    "import matplotlib.pyplot as plt\n",
    "import warnings; warnings.simplefilter('ignore')\n",
    "from keras import regularizers\n",
    "from keras.utils import np_utils\n",
    "from sklearn.preprocessing import StandardScaler\n",
    "from numpy.random import seed\n",
    "from tensorflow import set_random_seed\n",
    "from keras import regularizers\n",
    "from keras.models import Sequential\n",
    "from keras.layers import Input,Dense, Activation\n"
   ]
  },
  {
   "cell_type": "code",
   "execution_count": 101,
   "metadata": {},
   "outputs": [],
   "source": [
    "def load_mnist(path, kind='train'):\n",
    "    \"\"\"Load MNIST data from `path`\"\"\"\n",
    "    labels_path = os.path.join(path,\n",
    "                               '%s-labels-idx1-ubyte.gz'\n",
    "                               % kind)\n",
    "    images_path = os.path.join(path,\n",
    "                               '%s-images-idx3-ubyte.gz'\n",
    "                               % kind)\n",
    "\n",
    "    with gzip.open(labels_path, 'rb') as lbpath:\n",
    "        labels = np.frombuffer(lbpath.read(), dtype=np.uint8,\n",
    "                               offset=8)\n",
    "\n",
    "    with gzip.open(images_path, 'rb') as imgpath:\n",
    "        images = np.frombuffer(imgpath.read(), dtype=np.uint8,\n",
    "                               offset=16).reshape(len(labels), 784)\n",
    "\n",
    "    return images, labels"
   ]
  },
  {
   "cell_type": "code",
   "execution_count": 103,
   "metadata": {},
   "outputs": [
    {
     "name": "stdout",
     "output_type": "stream",
     "text": [
      "Downloading data from http://fashion-mnist.s3-website.eu-central-1.amazonaws.com/train-labels-idx1-ubyte.gz\n",
      "32768/29515 [=================================] - 1s 19us/step\n",
      "40960/29515 [=========================================] - 1s 15us/step\n",
      "Downloading data from http://fashion-mnist.s3-website.eu-central-1.amazonaws.com/train-images-idx3-ubyte.gz\n",
      "26427392/26421880 [==============================] - 17s 1us/step\n",
      "26435584/26421880 [==============================] - 17s 1us/step\n",
      "Downloading data from http://fashion-mnist.s3-website.eu-central-1.amazonaws.com/t10k-labels-idx1-ubyte.gz\n",
      "16384/5148 [===============================================================================================] - 0s 0us/step\n",
      "Downloading data from http://fashion-mnist.s3-website.eu-central-1.amazonaws.com/t10k-images-idx3-ubyte.gz\n",
      "4423680/4422102 [==============================] - 4s 1us/step\n",
      "4431872/4422102 [==============================] - 4s 1us/step\n"
     ]
    }
   ],
   "source": [
    "from keras import datasets\n",
    "(x_train, y_train), (x_test, y_test) = datasets.fashion_mnist.load_data()\n",
    "X_train = x_train.reshape(x_train.shape[0],x_train.shape[1]*x_train.shape[2])\n",
    "X_test = x_test.reshape(x_test.shape[0],x_test.shape[1]*x_test.shape[2])"
   ]
  },
  {
   "cell_type": "code",
   "execution_count": 104,
   "metadata": {},
   "outputs": [],
   "source": [
    "input_dim = X_train.shape[1]\n",
    "\n",
    "scaler = StandardScaler()\n",
    "X_trainN = scaler.fit_transform(X_train)\n",
    "X_testN = scaler.transform(X_test)\n",
    "\n",
    "# convert list of labels to binary class matrix\n",
    "y_trainOHE = np_utils.to_categorical(y_train)\n",
    "nb_classes = y_trainOHE.shape[1]\n",
    "\n"
   ]
  },
  {
   "cell_type": "code",
   "execution_count": 105,
   "metadata": {},
   "outputs": [
    {
     "data": {
      "text/plain": [
       "array([0, 1, 2, 3, 4, 5, 6, 7, 8, 9], dtype=uint8)"
      ]
     },
     "execution_count": 105,
     "metadata": {},
     "output_type": "execute_result"
    }
   ],
   "source": [
    "np.unique(y_train)"
   ]
  },
  {
   "cell_type": "markdown",
   "metadata": {},
   "source": [
    "## Exercises\n",
    "\n",
    "### 1.1 Regularization\n",
    "\n",
    "1.1.1 Define a new model using the keras sequential API. The model must have four hidden layers with the following neurons [128,64,32,16]. For all the hidden layers use the 'relu' activation function."
   ]
  },
  {
   "cell_type": "code",
   "execution_count": 109,
   "metadata": {},
   "outputs": [],
   "source": [
    "from keras.models import Model\n",
    "seed(1)\n",
    "set_random_seed(2)\n",
    "\n",
    "# This returns a tensor\n",
    "inputs = Input(shape=(X_train.shape[1],))\n",
    "\n",
    "# a layer instance is callable on a tensor, and returns a tensor\n",
    "x = Dense(128, activation='relu')(inputs)\n",
    "x = Dense(64, activation='relu')(x)\n",
    "x = Dense(32, activation='relu')(x)\n",
    "x = Dense(16, activation='relu')(x)\n",
    "predictions = Dense(nb_classes, activation='softmax')(x)\n",
    "\n",
    "# This creates a model that includes\n",
    "# the Input layer and three Dense layers\n",
    "model = Model(inputs=inputs, outputs=predictions)\n",
    "model.compile(optimizer='sgd',\n",
    "              loss='categorical_crossentropy',\n",
    "              metrics=['accuracy'])"
   ]
  },
  {
   "cell_type": "markdown",
   "metadata": {},
   "source": [
    "Run the following cell to train and test the model."
   ]
  },
  {
   "cell_type": "code",
   "execution_count": 110,
   "metadata": {},
   "outputs": [
    {
     "name": "stdout",
     "output_type": "stream",
     "text": [
      "('Accuracy = ', 78.03999999999999, '%')\n"
     ]
    }
   ],
   "source": [
    "from keras import optimizers\n",
    "# or instantiate an optimizer before passing it to model.compile\n",
    "sgd = optimizers.SGD(lr=0.01, decay=1e-6, momentum=0.9, nesterov=True)\n",
    "model.compile(loss='categorical_crossentropy', optimizer=sgd)\n",
    "model.fit(X_trainN[:500,:], y_trainOHE[:500,:], epochs=1000, batch_size=16, validation_split=0, verbose=0)\n",
    "\n",
    "preds = model.predict(X_testN, verbose=0)\n",
    "preds = np.argmax(preds,axis=1)\n",
    "Accuracy = np.mean(preds == y_test)\n",
    "print('Accuracy = ', Accuracy*100, '%')"
   ]
  },
  {
   "cell_type": "markdown",
   "metadata": {},
   "source": [
    "Create a graph with the histogram of the network weigths in the first hidden layer"
   ]
  },
  {
   "cell_type": "code",
   "execution_count": 111,
   "metadata": {},
   "outputs": [
    {
     "name": "stdout",
     "output_type": "stream",
     "text": [
      "_________________________________________________________________\n",
      "Layer (type)                 Output Shape              Param #   \n",
      "=================================================================\n",
      "input_17 (InputLayer)        (None, 784)               0         \n",
      "_________________________________________________________________\n",
      "dense_73 (Dense)             (None, 128)               100480    \n",
      "_________________________________________________________________\n",
      "dense_74 (Dense)             (None, 64)                8256      \n",
      "_________________________________________________________________\n",
      "dense_75 (Dense)             (None, 32)                2080      \n",
      "_________________________________________________________________\n",
      "dense_76 (Dense)             (None, 16)                528       \n",
      "_________________________________________________________________\n",
      "dense_77 (Dense)             (None, 10)                170       \n",
      "=================================================================\n",
      "Total params: 111,514\n",
      "Trainable params: 111,514\n",
      "Non-trainable params: 0\n",
      "_________________________________________________________________\n"
     ]
    }
   ],
   "source": [
    "model.summary()"
   ]
  },
  {
   "cell_type": "code",
   "execution_count": 112,
   "metadata": {},
   "outputs": [
    {
     "name": "stdout",
     "output_type": "stream",
     "text": [
      "((784, 128), (128,))\n"
     ]
    }
   ],
   "source": [
    "pos1 = model.layers[1].get_weights()[0]\n",
    "pos2 = model.layers[1].get_weights()[1]\n",
    "print(pos1.shape, pos2.shape)"
   ]
  },
  {
   "cell_type": "code",
   "execution_count": 124,
   "metadata": {},
   "outputs": [
    {
     "data": {
      "image/png": "[encoded data removed]",
      "text/plain": [
       "<Figure size 432x288 with 1 Axes>"
      ]
     },
     "metadata": {},
     "output_type": "display_data"
    }
   ],
   "source": [
    "weigth = model.layers[1].get_weights()[0].flatten()\n",
    "plt.hist(weigth,bins=56, color='green', alpha=0.7)\n",
    "plt.grid(True)\n",
    "plt.show()"
   ]
  },
  {
   "cell_type": "markdown",
   "metadata": {},
   "source": [
    "1.1.2 Modify the former model to include $L_2$ regularization to every layer of the former model. Define a regularization parameter equal to 0.0001. "
   ]
  },
  {
   "cell_type": "code",
   "execution_count": 115,
   "metadata": {},
   "outputs": [],
   "source": [
    "seed(1)\n",
    "set_random_seed(2)\n",
    "# This returns a tensor\n",
    "inputs = Input(shape=(784,))\n",
    "\n",
    "x = Dense(128, activation='relu',kernel_regularizer=regularizers.l2(0.0001))(inputs)\n",
    "x = Dense(64, activation='relu',kernel_regularizer=regularizers.l2(0.0001))(x)\n",
    "x = Dense(32, activation='relu',kernel_regularizer=regularizers.l2(0.0001))(x)\n",
    "x = Dense(16, activation='relu',kernel_regularizer=regularizers.l2(0.0001))(x)\n",
    "predictions = Dense(nb_classes, activation='softmax',kernel_regularizer=regularizers.l2(0.0001))(x)\n",
    "\n",
    "# This creates a model that includes\n",
    "# the Input layer and three Dense layers\n",
    "model_l2 = Model(inputs=inputs, outputs=predictions)\n",
    "model_l2.compile(optimizer='sgd',\n",
    "              loss='categorical_crossentropy',\n",
    "              metrics=['accuracy'])\n"
   ]
  },
  {
   "cell_type": "code",
   "execution_count": 116,
   "metadata": {},
   "outputs": [
    {
     "name": "stdout",
     "output_type": "stream",
     "text": [
      "_________________________________________________________________\n",
      "Layer (type)                 Output Shape              Param #   \n",
      "=================================================================\n",
      "input_18 (InputLayer)        (None, 784)               0         \n",
      "_________________________________________________________________\n",
      "dense_78 (Dense)             (None, 128)               100480    \n",
      "_________________________________________________________________\n",
      "dense_79 (Dense)             (None, 64)                8256      \n",
      "_________________________________________________________________\n",
      "dense_80 (Dense)             (None, 32)                2080      \n",
      "_________________________________________________________________\n",
      "dense_81 (Dense)             (None, 16)                528       \n",
      "_________________________________________________________________\n",
      "dense_82 (Dense)             (None, 10)                170       \n",
      "=================================================================\n",
      "Total params: 111,514\n",
      "Trainable params: 111,514\n",
      "Non-trainable params: 0\n",
      "_________________________________________________________________\n"
     ]
    }
   ],
   "source": [
    "model_l2.summary()"
   ]
  },
  {
   "cell_type": "markdown",
   "metadata": {},
   "source": [
    "Run the following cell to train and test the model"
   ]
  },
  {
   "cell_type": "code",
   "execution_count": 117,
   "metadata": {},
   "outputs": [
    {
     "name": "stdout",
     "output_type": "stream",
     "text": [
      "('Accuracy = ', 78.3, '%')\n"
     ]
    }
   ],
   "source": [
    "# or instantiate an optimizer before passing it to model.compile\n",
    "sgd = optimizers.SGD(lr=0.01, decay=1e-6, momentum=0.9, nesterov=True)\n",
    "model_l2.compile(loss='categorical_crossentropy', optimizer=sgd)\n",
    "model_l2.fit(X_trainN[:500,:], y_trainOHE[:500,:], epochs=1000, batch_size=16, validation_split=0, verbose=0)\n",
    "\n",
    "preds = model_l2.predict(X_testN, verbose=0)\n",
    "preds = np.argmax(preds,axis=1)\n",
    "Accuracy = np.mean(preds == y_test)\n",
    "print('Accuracy = ', Accuracy*100, '%')"
   ]
  },
  {
   "cell_type": "markdown",
   "metadata": {},
   "source": [
    "Create a graph with the histogram of the network weigths in the first hidden layer. Compare it with the histogram obtained in the previous exercise. Is there any effect due to the regularization?"
   ]
  },
  {
   "cell_type": "code",
   "execution_count": 131,
   "metadata": {},
   "outputs": [
    {
     "data": {
      "image/png": "[encoded data removed]",
      "text/plain": [
       "<Figure size 432x288 with 1 Axes>"
      ]
     },
     "metadata": {},
     "output_type": "display_data"
    }
   ],
   "source": [
    "weigth_l2 = model_l2.layers[1].get_weights()[0].flatten()\n",
    "plt.hist(weigth_l2, bins = 50, color='olive', alpha=0.7)\n",
    "plt.grid(True)\n",
    "plt.show()"
   ]
  },
  {
   "cell_type": "code",
   "execution_count": 138,
   "metadata": {},
   "outputs": [
    {
     "data": {
      "image/png": "[encoded data removed]",
      "text/plain": [
       "<Figure size 432x288 with 2 Axes>"
      ]
     },
     "metadata": {},
     "output_type": "display_data"
    }
   ],
   "source": [
    "plt.figure(1)\n",
    "plt.xlabel('Without regularizer')\n",
    "plt.subplot(121)\n",
    "plt.hist(weigth,bins=56, color='green', alpha=0.7)\n",
    "#plt.xlabel('regularizer l2')\n",
    "plt.subplot(122)\n",
    "plt.hist(weigth_l2, bins = 50, color='olive', alpha=0.7)\n",
    "plt.show()"
   ]
  },
  {
   "cell_type": "code",
   "execution_count": 140,
   "metadata": {},
   "outputs": [
    {
     "name": "stdout",
     "output_type": "stream",
     "text": [
      "('Min value weigth without regularizer and l2 regularizer', -0.17804004, -0.108258426)\n",
      "('Max value weigth without regularizer and l2 regularizer', 0.15939689, 0.11354011)\n"
     ]
    }
   ],
   "source": [
    "print(\"Min value weigth without regularizer and l2 regularizer\",weigth.min(), weigth_l2.min())\n",
    "print(\"Max value weigth without regularizer and l2 regularizer\",weigth.max(), weigth_l2.max())\n"
   ]
  },
  {
   "cell_type": "markdown",
   "metadata": {},
   "source": [
    "1.1.3 Define a new model using the keras sequential API including $L_1$ and $L_2$ regularization methods for every layer. Define a regularization parameter equal to 0.0001 for both regularization terms."
   ]
  },
  {
   "cell_type": "code",
   "execution_count": 184,
   "metadata": {},
   "outputs": [],
   "source": [
    "seed(1)\n",
    "set_random_seed(2)\n",
    "\n",
    "\n",
    "del model_l12\n",
    "model_l12 = Sequential()\n",
    "model_l12.add(Dense(128, input_dim=input_dim, kernel_regularizer=regularizers.l2(0.0001),\n",
    "                activity_regularizer=regularizers.l1(0.0001)))\n",
    "model_l12.add(Activation('relu'))\n",
    "model_l12.add(Dense(64, input_dim=input_dim, kernel_regularizer=regularizers.l2(0.0001),\n",
    "                activity_regularizer=regularizers.l1(0.0001)))\n",
    "model_l12.add(Activation('relu'))\n",
    "model_l12.add(Dense(32, input_dim=input_dim, kernel_regularizer=regularizers.l2(0.0001),\n",
    "                activity_regularizer=regularizers.l1(0.0001)))\n",
    "model_l12.add(Activation('relu'))\n",
    "model_l12.add(Dense(16, input_dim=input_dim, kernel_regularizer=regularizers.l2(0.0001),\n",
    "                activity_regularizer=regularizers.l1(0.0001)))\n",
    "model_l12.add(Activation('relu'))\n",
    "model_l12.add(Dense(nb_classes, activation='softmax'))"
   ]
  },
  {
   "cell_type": "markdown",
   "metadata": {},
   "source": [
    "Run the following cell to train the model and estimate the accuracy."
   ]
  },
  {
   "cell_type": "code",
   "execution_count": 185,
   "metadata": {},
   "outputs": [
    {
     "name": "stdout",
     "output_type": "stream",
     "text": [
      "('Accuracy = ', 57.53, '%')\n"
     ]
    }
   ],
   "source": [
    "# or instantiate an optimizer before passing it to model.compile\n",
    "sgd = optimizers.SGD(lr=0.01, decay=1e-6, momentum=0.9, nesterov=True)\n",
    "model_l12.compile(loss='categorical_crossentropy', optimizer=sgd)\n",
    "model_l12.fit(X_trainN[:500,:], y_trainOHE[:500,:], epochs=100, batch_size=16, validation_split=0, verbose=0)\n",
    "\n",
    "preds = model_l12.predict(X_testN, verbose=0)\n",
    "preds = np.argmax(preds,axis=1)\n",
    "Accuracy = np.mean(preds == y_test)\n",
    "print('Accuracy = ', Accuracy*100, '%')"
   ]
  },
  {
   "cell_type": "markdown",
   "metadata": {},
   "source": [
    "Create a graph with the histogram of the network weigths in the first hidden layer. Compare it with the histograms obtained in the previous exercises. What is the effect of applying $L_1$ regularization?"
   ]
  },
  {
   "cell_type": "code",
   "execution_count": 188,
   "metadata": {},
   "outputs": [
    {
     "name": "stdout",
     "output_type": "stream",
     "text": [
      "[array([[ 0.04201139, -0.01535423,  0.0480631 , ...,  0.06322812,\n",
      "         0.02462386, -0.04059782],\n",
      "       [ 0.05343629, -0.04543277, -0.02057044, ..., -0.04254948,\n",
      "         0.02003811, -0.02478533],\n",
      "       [-0.03379624, -0.00988767, -0.01666937, ..., -0.11408246,\n",
      "         0.01099436,  0.02052618],\n",
      "       ...,\n",
      "       [ 0.01119984, -0.01363951, -0.00641967, ...,  0.00664383,\n",
      "        -0.02784776, -0.00491876],\n",
      "       [ 0.0365315 , -0.01393194,  0.03623383, ..., -0.07853494,\n",
      "        -0.00670519, -0.04602747],\n",
      "       [ 0.04322481,  0.00227764,  0.0153923 , ...,  0.0339768 ,\n",
      "         0.04833724,  0.07566527]], dtype=float32), array([-0.03309564, -0.02019668, -0.03914726, -0.0229707 , -0.01964676,\n",
      "       -0.03552552, -0.0434595 , -0.04265947, -0.0562045 , -0.03304557,\n",
      "       -0.00880897, -0.03835896, -0.02930832, -0.07474093, -0.03906637,\n",
      "       -0.06368566, -0.00790113, -0.02866846, -0.022322  , -0.0053568 ,\n",
      "       -0.03846512, -0.03387121, -0.04926838, -0.04741129, -0.02537199,\n",
      "       -0.02039998, -0.04643619, -0.06835374, -0.03744014, -0.02923869,\n",
      "       -0.03583769, -0.03226351, -0.05484102, -0.0269737 , -0.01567363,\n",
      "       -0.02131881, -0.02365884, -0.01546759, -0.0081948 , -0.06047549,\n",
      "       -0.02095142, -0.0787972 , -0.06533092, -0.03899192,  0.01524633,\n",
      "       -0.03999743, -0.05164327, -0.02158457, -0.04114525, -0.03320364,\n",
      "       -0.02908287, -0.05950492, -0.03282737, -0.03323427, -0.04312167,\n",
      "       -0.04273156, -0.04321306, -0.03915369, -0.05997683, -0.0629387 ,\n",
      "       -0.02831667,  0.01876426, -0.05026751, -0.0483095 , -0.05057908,\n",
      "       -0.01378598, -0.05136321, -0.05278339, -0.02001167, -0.04091441,\n",
      "       -0.03005964, -0.00389344, -0.02535148, -0.02804645, -0.03250531,\n",
      "       -0.03389944, -0.0205639 ,  0.00218319, -0.06577501, -0.0263738 ,\n",
      "       -0.03689414, -0.05503552, -0.03625545, -0.07178666, -0.05201568,\n",
      "       -0.01973079, -0.02439553,  0.00305143, -0.00584492,  0.01208286,\n",
      "       -0.03693691, -0.04221466, -0.05678282, -0.01481119, -0.0497863 ,\n",
      "       -0.04030905, -0.05012899, -0.01163437, -0.03592771, -0.02030706,\n",
      "       -0.06100059, -0.05512214, -0.05256973, -0.02631084, -0.02365111,\n",
      "       -0.01217912, -0.03657196, -0.03558563, -0.07128784, -0.0464196 ,\n",
      "       -0.03371453, -0.05694851, -0.05405312, -0.04231441, -0.05458123,\n",
      "       -0.03755723, -0.03703652, -0.05227998, -0.01491035, -0.02723167,\n",
      "       -0.0254708 , -0.04225393, -0.04521026,  0.00192142, -0.04544785,\n",
      "       -0.05735336, -0.05792556, -0.04680381], dtype=float32)]\n"
     ]
    }
   ],
   "source": [
    "print(model_l12.layers[0].get_weights())"
   ]
  },
  {
   "cell_type": "code",
   "execution_count": 189,
   "metadata": {},
   "outputs": [
    {
     "data": {
      "image/png": "[encoded data removed]",
      "text/plain": [
       "<Figure size 432x288 with 1 Axes>"
      ]
     },
     "metadata": {},
     "output_type": "display_data"
    },
    {
     "data": {
      "text/plain": [
       "<Figure size 432x288 with 0 Axes>"
      ]
     },
     "metadata": {},
     "output_type": "display_data"
    }
   ],
   "source": [
    "weigth_l12 = model_l12.layers[0].get_weights()[0].flatten()\n",
    "plt.hist(weigth_l12, bins = 30, color='tomato', alpha=0.7)\n",
    "plt.grid(True)\n",
    "plt.show()\n",
    "plt.clf()"
   ]
  },
  {
   "cell_type": "code",
   "execution_count": 194,
   "metadata": {},
   "outputs": [
    {
     "data": {
      "image/png": "[encoded data removed]",
      "text/plain": [
       "<Figure size 432x288 with 1 Axes>"
      ]
     },
     "metadata": {},
     "output_type": "display_data"
    },
    {
     "data": {
      "text/plain": [
       "<Figure size 432x288 with 0 Axes>"
      ]
     },
     "metadata": {},
     "output_type": "display_data"
    }
   ],
   "source": [
    "plt.figure()\n",
    "plt.hist(weigth_l12, bins=50, label='Regularization L1 and L2', color='tomato', alpha=0.7);\n",
    "plt.hist(weigth, bins=50, label='without regularization',color='green', alpha=0.3);\n",
    "plt.hist(weigth_l2, bins=50, label='Regularization L2 ', color='olive', alpha=0.7);\n",
    "plt.legend()\n",
    "plt.grid(True)\n",
    "plt.show()\n",
    "plt.clf()"
   ]
  },
  {
   "cell_type": "markdown",
   "metadata": {},
   "source": [
    "### 1.2 Customized loss function"
   ]
  },
  {
   "cell_type": "code",
   "execution_count": 44,
   "metadata": {},
   "outputs": [],
   "source": [
    "#Example MSE\n",
    "from keras import backend as K\n",
    "\n",
    "def mean_squared_error(y_true, y_pred):\n",
    "    return K.mean(K.square(y_pred - y_true), axis=-1)"
   ]
  },
  {
   "cell_type": "markdown",
   "metadata": {},
   "source": [
    "1.2.1 Use the backend component of keras (https://keras.io/backend/) to define the following loss function and use it to train the model.\n",
    "\n",
    "$$\\mathcal{L}({\\bf{\\hat{y}}},{\\bf{y}}) = -\\frac{1}{N}\\sum_{i=1}^N \\sum_{j=1}^C {\\bf{1}}_{y_i \\in C_j} w_{j}\\log p_{model}[y_i \\in C_j]$$\n",
    "\n",
    "which corresponds to a weighted version of the categorical cross entropy loss function."
   ]
  },
  {
   "cell_type": "code",
   "execution_count": 46,
   "metadata": {},
   "outputs": [],
   "source": [
    "from keras import backend as K\n",
    "def weighted_categorical_crossentropy(weights):\n",
    "    \n",
    "    weights = K.variable(weights)\n",
    "    \n",
    "    def loss(y_true, y_pred):\n",
    "        loss = y_true * K.log(y_pred)*weights\n",
    "        loss = -K.sum(loss)\n",
    "            \n",
    "        return loss\n",
    "    \n",
    "    return loss"
   ]
  },
  {
   "cell_type": "markdown",
   "metadata": {},
   "source": [
    "1.2.2 Use the weighted categorical cross entropy function to train the MLP model with 3 layers defined at the begining of this document. Use the following weights = np.array([1,1,1,1,1,1,4,1,1,1]). Evaluate the model with the test dataset and plot the confusion matrix. "
   ]
  },
  {
   "cell_type": "code",
   "execution_count": 47,
   "metadata": {},
   "outputs": [],
   "source": [
    "weights = np.array([1,1,1,1,1,1,4,1,1,1])"
   ]
  },
  {
   "cell_type": "code",
   "execution_count": 171,
   "metadata": {},
   "outputs": [],
   "source": [
    "from sklearn.metrics import confusion_matrix\n",
    "\n",
    "loss_cat = weighted_categorical_crossentropy(weights)\n",
    "\n",
    "del model\n",
    "model = Sequential()\n",
    "model.add(Dense(64, input_dim=input_dim))\n",
    "model.add(Activation('tanh'))\n",
    "model.add(Dense(32))\n",
    "model.add(Activation('tanh'))\n",
    "model.add(Dense(nb_classes, activation='softmax'))\n",
    "\n",
    "sgd = optimizers.SGD(lr=0.01, decay=1e-6, momentum=0.9, nesterov=True)\n",
    "model.compile(optimizer=sgd, loss=weighted_categorical_crossentropy(weights), metrics=['accuracy'])\n"
   ]
  },
  {
   "cell_type": "markdown",
   "metadata": {},
   "source": [
    "Train and validate the model. Compare the confusion matrix obtained using the weighted loss function with one obtained in the former class."
   ]
  },
  {
   "cell_type": "code",
   "execution_count": 172,
   "metadata": {},
   "outputs": [
    {
     "name": "stdout",
     "output_type": "stream",
     "text": [
      "Train on 54000 samples, validate on 6000 samples\n",
      "Epoch 1/10\n",
      " - 11s - loss: 39.8480 - acc: 0.5210 - val_loss: 37.0404 - val_acc: 0.5362\n",
      "Epoch 2/10\n",
      " - 10s - loss: 40.4795 - acc: 0.5323 - val_loss: 31.2336 - val_acc: 0.4867\n",
      "Epoch 3/10\n",
      " - 10s - loss: 39.4505 - acc: 0.5417 - val_loss: 37.2634 - val_acc: 0.5138\n",
      "Epoch 4/10\n",
      " - 9s - loss: 40.3673 - acc: 0.5221 - val_loss: 41.6622 - val_acc: 0.4943\n",
      "Epoch 5/10\n",
      " - 9s - loss: 39.3951 - acc: 0.5424 - val_loss: 37.9439 - val_acc: 0.5383\n",
      "Epoch 6/10\n",
      " - 9s - loss: 39.0594 - acc: 0.5471 - val_loss: 42.9512 - val_acc: 0.5225\n",
      "Epoch 7/10\n",
      " - 10s - loss: 38.9748 - acc: 0.5514 - val_loss: 37.9686 - val_acc: 0.4870\n",
      "Epoch 8/10\n",
      " - 10s - loss: 39.2767 - acc: 0.5599 - val_loss: 37.1630 - val_acc: 0.4977\n",
      "Epoch 9/10\n",
      " - 12s - loss: 38.6366 - acc: 0.5560 - val_loss: 35.0955 - val_acc: 0.5383\n",
      "Epoch 10/10\n",
      " - 12s - loss: 38.9324 - acc: 0.5486 - val_loss: 38.5019 - val_acc: 0.5533\n"
     ]
    },
    {
     "data": {
      "text/plain": [
       "([<matplotlib.axis.YTick at 0x7fc848b455d0>,\n",
       "  <matplotlib.axis.YTick at 0x7fc848b45090>,\n",
       "  <matplotlib.axis.YTick at 0x7fc848b3c390>,\n",
       "  <matplotlib.axis.YTick at 0x7fc848a5c290>,\n",
       "  <matplotlib.axis.YTick at 0x7fc848a5c7d0>,\n",
       "  <matplotlib.axis.YTick at 0x7fc848a5cd10>,\n",
       "  <matplotlib.axis.YTick at 0x7fc848a65290>,\n",
       "  <matplotlib.axis.YTick at 0x7fc848a657d0>,\n",
       "  <matplotlib.axis.YTick at 0x7fc848a5c390>,\n",
       "  <matplotlib.axis.YTick at 0x7fc848ab2b90>],\n",
       " <a list of 10 Text yticklabel objects>)"
      ]
     },
     "execution_count": 172,
     "metadata": {},
     "output_type": "execute_result"
    },
    {
     "data": {
      "image/png": "[encoded data removed]",
      "text/plain": [
       "<Figure size 432x288 with 2 Axes>"
      ]
     },
     "metadata": {},
     "output_type": "display_data"
    }
   ],
   "source": [
    "from sklearn.metrics import confusion_matrix\n",
    "\n",
    "objects = ('Botin', 'Bolso', 'Tenis', 'Camisa', 'Sandalia', 'Abrigo', 'Vestido', 'Buso', 'Pantalon', 'Camiseta')\n",
    "\n",
    "model.fit(X_trainN, y_trainOHE, epochs=10, batch_size=16, validation_split=0.1, verbose=2)\n",
    "preds = model.predict_classes(X_testN, verbose=0)\n",
    "cm = confusion_matrix(y_test, preds)\n",
    "cm = cm/np.float(np.sum(cm))\n",
    "cmap = plt.cm.Blues\n",
    "tick_marks = np.arange(nb_classes)\n",
    "plt.imshow(cm, interpolation='nearest', cmap=cmap)\n",
    "plt.title('Normalized confusion matrix')\n",
    "plt.colorbar()\n",
    "plt.xticks(tick_marks, objects, rotation=45)\n",
    "plt.yticks(tick_marks, objects)\n"
   ]
  },
  {
   "cell_type": "code",
   "execution_count": null,
   "metadata": {},
   "outputs": [],
   "source": []
  }
 ],
 "metadata": {
  "kernelspec": {
   "display_name": "Python 2",
   "language": "python",
   "name": "python2"
  },
  "language_info": {
   "codemirror_mode": {
    "name": "ipython",
    "version": 2
   },
   "file_extension": ".py",
   "mimetype": "text/x-python",
   "name": "python",
   "nbconvert_exporter": "python",
   "pygments_lexer": "ipython2",
   "version": "2.7.14"
  }
 },
 "nbformat": 4,
 "nbformat_minor": 2
}
