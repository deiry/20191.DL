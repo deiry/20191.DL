{
 "cells": [
  {
   "cell_type": "markdown",
   "metadata": {},
   "source": [
    "# Fundamentals of Deep Learning"
   ]
  },
  {
   "cell_type": "markdown",
   "metadata": {},
   "source": [
    "### Recurrent Neural Networks\n",
    "\n",
    "#### Julián D. Arias Londoño and Raúl Ramos Pollán \n",
    "\n",
    "Dept. of Systems Engineering and Computer Science  \n",
    "Universidad de Antioquia, Medellín, Colombia  \n",
    "julian.ariasl@udea.edu.co, raul.ramos@udea.edu.co, "
   ]
  },
  {
   "cell_type": "code",
   "execution_count": 2,
   "metadata": {},
   "outputs": [],
   "source": [
    "%matplotlib inline"
   ]
  },
  {
   "cell_type": "markdown",
   "metadata": {},
   "source": [
    "Recurrent Neural Networks (RNN) are a family of neural networks designed to process sequential data. This type of networks are specially suitable for problems where every sample is a sequence of objects (values) with statistical dependence among them."
   ]
  },
  {
   "cell_type": "markdown",
   "metadata": {},
   "source": [
    "![alt text](./Images/RNN2.png \"Neuronas\")"
   ]
  },
  {
   "cell_type": "markdown",
   "metadata": {},
   "source": [
    "An alternative view of the network "
   ]
  },
  {
   "cell_type": "markdown",
   "metadata": {},
   "source": [
    "![alt text](./Images/RNN3.png \"Neuronas\")"
   ]
  },
  {
   "cell_type": "markdown",
   "metadata": {},
   "source": [
    "RNNs can be designed to solve different learning paradigms, in other words, they are able to adapt to different data configurations."
   ]
  },
  {
   "cell_type": "markdown",
   "metadata": {},
   "source": [
    "![alt text](./Images/RNN-Topol.jpeg \"Neuronas\")"
   ]
  },
  {
   "cell_type": "markdown",
   "metadata": {},
   "source": [
    "Examples:\n",
    "\n",
    "- 1. Conventional MLP\n",
    "- 2. Caption generation\n",
    "- 3. Sentiment analysis\n",
    "- 4. Language translation\n",
    "- 5. Time series prediction\n"
   ]
  },
  {
   "cell_type": "markdown",
   "metadata": {},
   "source": [
    "According to the notation in the in Figure 2, the mathematical formulation of an Elman RNN with one hidden layer and one output layer is given by:\n",
    "\n",
    "$${\\bf{a}}^{(t)} = {\\bf{b}} + {\\bf{V}}{\\bf{h}}^{(t-1)} + {\\bf{U}}{\\bf{x}}^{(t)},\\\\ {\\bf{h}}^{(t)} = \\tanh({\\bf{a}}^{(t)}), \\\\ {\\bf{o}}^{(t)} = {\\bf{c}} + {\\bf{W}}{\\bf{h}}^{(t)}$$"
   ]
  },
  {
   "cell_type": "markdown",
   "metadata": {},
   "source": [
    "where $\\bf{V}$ is the weights matrix of the feedback loop. $\\bf{U}$ is the  weights matrix of the inputs and $\\bf{W}$ is the weights matrix that contects the **state** of the network with the output layer. $\\bf{b}$ and $\\bf{c}$ are the bias vectors for the hidden and output layers respectively. The ouput of the network ${\\bf{y}}^{(t)}$ corresponds to the application of the activation function to the values ${\\bf{o}}^{(t)}$."
   ]
  },
  {
   "cell_type": "markdown",
   "metadata": {},
   "source": [
    "### Backpropagation through time (BPTT)"
   ]
  },
  {
   "cell_type": "markdown",
   "metadata": {},
   "source": [
    "The first step for training a RNN is to define the loss function. Let's consider a sequence of length $\\tau$, the loss for that single sequence can be expressed as: "
   ]
  },
  {
   "cell_type": "markdown",
   "metadata": {},
   "source": [
    "$$L(\\{ {\\bf{y}}^{(1)},{\\bf{y}}^{(2)},\\cdots,{\\bf{y}}^{(\\tau)} \\}, \\{ {\\bf{\\hat{y}}}^{(1)},{\\bf{\\hat{y}}}^{(2)},\\cdots,{\\bf{\\hat{y}}}^{(\\tau)} \\}) \\\\\n",
    "L = \\sum_t L^{(t)}$$"
   ]
  },
  {
   "cell_type": "markdown",
   "metadata": {},
   "source": [
    "If for instance the loss function for output $i$ is $L^{(t)} = -\\log \\hat{y}_i^{(t)}$, then"
   ]
  },
  {
   "cell_type": "markdown",
   "metadata": {},
   "source": [
    "$$(\\nabla_{{\\bf{o}}^{(t)}}L)_i = \\frac{\\partial L}{\\partial o_i^{(t)}} = \\frac{\\partial L}{\\partial L^{(t)}} \\frac{\\partial L^{(t)}}{\\partial \\hat{y}_i^{(t)}} \\frac{\\partial \\hat{y}_i^{(t)}}{\\partial o_i^{(t)}} = \\hat{y}_i^{(t)} - 1 \\\\ \\nabla_{{\\bf{o}}^{(t)}}L = {\\bf{y}}^{(t)} \\odot ({\\bf{\\hat{y}}}^{(t)} - {\\bf{1}} )$$"
   ]
  },
  {
   "cell_type": "markdown",
   "metadata": {},
   "source": [
    "where $\\odot$ is the Hadamard product. When $t=\\tau$, ${\\bf{h}}^{(\\tau)}$ only has ${\\bf{o}}^{(\\tau)}$ as descendent, so its gradient is simple:\n",
    "\n",
    "$$ \\nabla_{{\\bf{h}}^{(\\tau)}} L = {\\bf{W}}^T\\nabla_{{\\bf{o}}^{(\\tau)}}L$$"
   ]
  },
  {
   "cell_type": "markdown",
   "metadata": {},
   "source": [
    "From this two results we can iterate backward in time to back-propagate gradients through time. From $t=\\tau-1$ down to $\\tau = 1$, ${\\bf{h}}^{(t)}$ has two descendents: ${\\bf{h}}^{(t+1)}$ and ${\\bf{o}}^{(t)}$, therefore its gradient is given by:   "
   ]
  },
  {
   "cell_type": "markdown",
   "metadata": {},
   "source": [
    "$$ \\nabla_{{\\bf{h}}^{(t)}}L = \\left( \\frac{\\partial {\\bf{h}}^{(t+1)}}{\\partial {\\bf{h}}^{(t)}}\\right)^T(\\nabla_{{\\bf{h}}^{(t+1)}} L) + \\left(\\frac{\\partial {\\bf{o}}^{(t)}}{\\partial {\\bf{h}}^{(t)}}\\right)^T(\\nabla_{{\\bf{o}}^{(t)}}L) \\\\\n",
    "\\nabla_{{\\bf{h}}^{(t)}}L = {\\bf{V}}^T\\text{diag} \\left( 1 - \\left( {\\bf{h}}^{(t+1)} \\right)^2\\right)(\\nabla_{{\\bf{h}}^{(t+1)}} L) + {\\bf{W}}^T(\\nabla_{{\\bf{o}}^{(t)}}L)$$"
   ]
  },
  {
   "cell_type": "markdown",
   "metadata": {},
   "source": [
    "Based on the former results, the rest of the gradients can be calculated as:"
   ]
  },
  {
   "cell_type": "markdown",
   "metadata": {},
   "source": [
    "$$ \\nabla_{\\bf{c}} L = \\sum_t \\left(\\frac{\\partial {\\bf{o}}^{(t)}}{\\partial {\\bf{c}}}\\right)^T \\nabla_{{\\bf{o}}^{(t)}}L$$\n",
    "\n",
    "$$ \\nabla_{\\bf{b}} L = \\sum_t \\left(\\frac{\\partial {\\bf{h}}^{(t)}}{\\partial {\\bf{b}}}\\right)^T \\nabla_{{\\bf{h}}^{(t)}}L = \\sum_t \\text{diag}\\left( 1 - \\left( {\\bf{h}}^{(t)} \\right)^2\\right)\\nabla_{{\\bf{h}}^{(t)}} L $$\n",
    "\n",
    "$$\\nabla_{{\\bf W}}L = \\sum_t \\sum_i \\left(  \\frac{\\partial L}{\\partial o_i^{(t)}} \\right)^T \\nabla_{{\\bf W}} o_i^{(t)} = \\sum_t (\\nabla_{{\\bf{o}}^{(t)}}L){\\bf{h}}^{(t)^T}$$\n",
    "\n",
    "$$\\nabla_{\\bf V}L = \\sum_t \\text{diag}\\left( 1 - \\left( {\\bf{h}}^{(t)} \\right)^2\\right)(\\nabla_{{\\bf{h}}^{(t)}} L){\\bf{h}}^{(t-1)^T}$$\n",
    "\n",
    "$$ \\nabla_{\\bf U}L = \\sum_t \\text{diag}\\left( 1 - \\left( {\\bf{h}}^{(t)} \\right)^2\\right)(\\nabla_{{\\bf{h}}^{(t)}} L){\\bf{x}}^{(t)^T} $$"
   ]
  },
  {
   "cell_type": "code",
   "execution_count": 29,
   "metadata": {},
   "outputs": [
    {
     "data": {
      "image/png": "[encoded data removed]",
      "text/plain": [
       "<Figure size 432x288 with 1 Axes>"
      ]
     },
     "metadata": {},
     "output_type": "display_data"
    }
   ],
   "source": [
    "import pandas\n",
    "import numpy as np\n",
    "import matplotlib.pyplot as plt\n",
    "dataset = pandas.read_csv('data/international-airline-passengers.csv', usecols=[1], engine='python', skipfooter=3)\n",
    "plt.plot(dataset)\n",
    "plt.show()"
   ]
  },
  {
   "cell_type": "code",
   "execution_count": 30,
   "metadata": {},
   "outputs": [],
   "source": [
    "from libraries.DataPreparationRNN import split_sequence\n",
    "from sklearn.preprocessing import MinMaxScaler\n",
    "look_back=1\n",
    "dataset = dataset.values\n",
    "dataset = dataset.astype('float32')\n",
    "# split into train and test sets\n",
    "train_size = int(len(dataset) * 0.67)\n",
    "test_size = len(dataset) - train_size\n",
    "train, test = dataset[0:train_size,:], dataset[train_size:len(dataset),:]\n",
    "# normalize the dataset\n",
    "scaler = MinMaxScaler(feature_range=(0, 1))\n",
    "trainN = scaler.fit_transform(train)\n",
    "testN = scaler.transform(test)\n",
    "X_train, y_train = split_sequence(trainN, look_back)\n",
    "X_test, y_test = split_sequence(testN, look_back)"
   ]
  },
  {
   "cell_type": "markdown",
   "metadata": {},
   "source": [
    "Let's do a first try using a MLP."
   ]
  },
  {
   "cell_type": "code",
   "execution_count": 19,
   "metadata": {},
   "outputs": [
    {
     "data": {
      "text/plain": [
       "<keras.callbacks.History at 0x2443e171198>"
      ]
     },
     "execution_count": 19,
     "metadata": {},
     "output_type": "execute_result"
    }
   ],
   "source": [
    "from keras.models import Sequential\n",
    "from keras.layers import Dense\n",
    "from sklearn.metrics import mean_squared_error\n",
    "model = Sequential()\n",
    "model.add(Dense(10,activation = 'relu',input_dim=1))\n",
    "model.add(Dense(1))\n",
    "model.compile(optimizer='adam',loss='mse')\n",
    "model.fit(X_train.reshape(X_train.shape[0],look_back),y_train.flatten(),epochs=2000, verbose=0)"
   ]
  },
  {
   "cell_type": "code",
   "execution_count": 38,
   "metadata": {},
   "outputs": [
    {
     "name": "stdout",
     "output_type": "stream",
     "text": [
      "Train Score: 22.63 RMSE\n",
      "Test Score: 51.82 RMSE\n"
     ]
    }
   ],
   "source": [
    "import math\n",
    "# make predictions\n",
    "trainPredict = model.predict(X_train.reshape(X_train.shape[0],look_back))\n",
    "testPredict = model.predict(X_test.reshape(X_test.shape[0],look_back))\n",
    "# invert predictions\n",
    "trainPredict = scaler.inverse_transform(trainPredict)\n",
    "trainY = scaler.inverse_transform([y_train.flatten()])\n",
    "testPredict = scaler.inverse_transform(testPredict)\n",
    "testY = scaler.inverse_transform([y_test.flatten()])\n",
    "# calculate root mean squared error\n",
    "trainScore = math.sqrt(mean_squared_error(trainY[0], trainPredict[:,0]))\n",
    "print('Train Score: %.2f RMSE' % (trainScore))\n",
    "testScore = math.sqrt(mean_squared_error(testY[0], testPredict[:,0]))\n",
    "print('Test Score: %.2f RMSE' % (testScore))"
   ]
  },
  {
   "cell_type": "code",
   "execution_count": 45,
   "metadata": {},
   "outputs": [
    {
     "data": {
      "image/png": "[encoded data removed]",
      "text/plain": [
       "<Figure size 432x288 with 1 Axes>"
      ]
     },
     "metadata": {},
     "output_type": "display_data"
    }
   ],
   "source": [
    "trainPredictPlot = np.empty_like(dataset)\n",
    "trainPredictPlot[:, :] = np.nan\n",
    "trainPredictPlot[look_back:len(trainPredict)+look_back, :] = trainPredict\n",
    "# shift test predictions for plotting\n",
    "testPredictPlot = np.empty_like(dataset)\n",
    "testPredictPlot[:, :] = np.nan\n",
    "testPredictPlot[len(trainPredict)+look_back:len(dataset)-1, :] = testPredict\n",
    "# plot baseline and predictions\n",
    "plt.plot(dataset)\n",
    "plt.plot(trainPredictPlot)\n",
    "plt.plot(testPredictPlot)\n",
    "plt.show()"
   ]
  },
  {
   "cell_type": "code",
   "execution_count": null,
   "metadata": {},
   "outputs": [],
   "source": []
  }
 ],
 "metadata": {
  "kernelspec": {
   "display_name": "Python 3",
   "language": "python",
   "name": "python3"
  },
  "language_info": {
   "codemirror_mode": {
    "name": "ipython",
    "version": 3
   },
   "file_extension": ".py",
   "mimetype": "text/x-python",
   "name": "python",
   "nbconvert_exporter": "python",
   "pygments_lexer": "ipython3",
   "version": "3.6.5"
  }
 },
 "nbformat": 4,
 "nbformat_minor": 2
}
