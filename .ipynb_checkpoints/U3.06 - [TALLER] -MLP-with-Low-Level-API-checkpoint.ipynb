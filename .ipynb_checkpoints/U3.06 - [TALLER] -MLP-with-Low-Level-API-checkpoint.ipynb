{
 "cells": [
  {
   "cell_type": "markdown",
   "metadata": {},
   "source": [
    "# TALLER: Multi Layer Perceptron\n",
    "\n",
    "Implementa una red neuronal de tres capas según la siguiente función de predicción.\n",
    "\n",
    "$$\\hat{y} = \\text{sigmoid} ( \\mathbf{W}_3 \\cdot \\tanh(\\mathbf{W}_2 \\cdot \\tanh(\\mathbf{x^T} \\cdot \\mathbf{W}_1 + \\mathbf{b}_1) + \\mathbf{b}_2) + b_3 )$$\n",
    "\n",
    "$$J(\\mathbf{b}_1, b_2, \\mathbf{W}_1, \\mathbf{W}_2) = \\frac{1}{m}\\sum_{i=0}^{m-1} (\\hat{y}-y)^2 $$\n",
    "\n",
    "observa que ahora tenemos dos tamaños para las dos capas escondidas. P.ej. si esos tamaños son 4 y 6 respectivamente, estas serían las dimensiones de los pesos:\n",
    "\n",
    "- $W_1$: (2, 4)\n",
    "- $W_2$: (4, 6)\n",
    "- $W_3$: (6, 1)\n",
    "- $b_1$: (4)\n",
    "- $b_2$: (6)\n",
    "- $b_3$: (1)\n"
   ]
  },
  {
   "cell_type": "code",
   "execution_count": 1,
   "metadata": {},
   "outputs": [
    {
     "name": "stdout",
     "output_type": "stream",
     "text": [
      "1.9.0\n"
     ]
    },
    {
     "name": "stderr",
     "output_type": "stream",
     "text": [
      "/opt/miniconda/lib/python2.7/site-packages/sklearn/ensemble/weight_boosting.py:29: DeprecationWarning: numpy.core.umath_tests is an internal NumPy module and should not be imported. It will be removed in a future NumPy release.\n",
      "  from numpy.core.umath_tests import inner1d\n"
     ]
    },
    {
     "data": {
      "image/png": "[encoded data removed]",
      "text/plain": [
       "<Figure size 432x288 with 1 Axes>"
      ]
     },
     "metadata": {},
     "output_type": "display_data"
    }
   ],
   "source": [
    "import tensorflow as tf\n",
    "import numpy as np\n",
    "import matplotlib.pyplot as plt\n",
    "%matplotlib inline\n",
    "import pandas as pd\n",
    "print tf.__version__\n",
    "from sklearn.datasets import make_moons\n",
    "import mlutils\n",
    "X,y = make_moons(200,noise=.4)\n",
    "mlutils.plot_2Ddata(X,y)"
   ]
  },
  {
   "cell_type": "markdown",
   "metadata": {},
   "source": [
    "### Parámetros de entrada"
   ]
  },
  {
   "cell_type": "code",
   "execution_count": 2,
   "metadata": {},
   "outputs": [],
   "source": [
    "input_units  = 2\n",
    "h_units_1    = 4\n",
    "h_units_2    = 6\n",
    "output_units = 1"
   ]
  },
  {
   "cell_type": "markdown",
   "metadata": {},
   "source": [
    "### Grafo computacional"
   ]
  },
  {
   "cell_type": "code",
   "execution_count": 3,
   "metadata": {},
   "outputs": [],
   "source": [
    "!rm -rf tmp\n",
    "with tf.Session() as sess:\n",
    "    writer = tf.summary.FileWriter(\"tmp\", sess.graph)"
   ]
  },
  {
   "cell_type": "code",
   "execution_count": 14,
   "metadata": {},
   "outputs": [],
   "source": [
    "\n",
    "\n",
    "def get_graph():\n",
    "\n",
    "    tf.reset_default_graph()\n",
    "# symbolic vars for model parameters\n",
    "    tW1 = tf.Variable(initial_value=tf.random_uniform([input_units,h_units_1 ], dtype=tf.float64), name=\"W1\", dtype=tf.float64)\n",
    "  \n",
    "    tW2 = tf.Variable(initial_value=tf.random_uniform([h_units_1, h_units_2], \n",
    "                                                      dtype=tf.float64), name=\"W2\", dtype=tf.float64)\n",
    "    tW3 = tf.Variable(initial_value=tf.random_uniform([h_units_2, output_units], \n",
    "                                                      dtype=tf.float64), name=\"W3\", dtype=tf.float64)\n",
    "    tb1 = tf.Variable(initial_value=tf.random_uniform([h_units_1], \n",
    "                                                      dtype=tf.float64), name=\"b1\", dtype=tf.float64)\n",
    "    tb2 = tf.Variable(initial_value=tf.random_uniform([h_units_2], \n",
    "                                                      dtype=tf.float64), name=\"b2\", dtype=tf.float64)\n",
    "    tb3 =tf.Variable(initial_value=tf.random_uniform([output_units], \n",
    "                                                      dtype=tf.float64), name=\"b2\", dtype=tf.float64)\n",
    "    \n",
    "    tX = tf.placeholder(name=\"X\", dtype=tf.float64, shape = (None, input_units))\n",
    "    ty = tf.placeholder(name=\"y\", dtype=tf.float64, shape = (None, output_units))\n",
    "\n",
    "    y_hat = tf.sigmoid(tf.matmul(tf.tanh(tf.matmul(tf.tanh(tf.matmul(tX, tW1)+tb1),tW2)), tW3) + tb2)\n",
    "    loss = tf.reduce_mean(tf.pow((y_hat - ty),2))             \n",
    "\n",
    "    init = tf.global_variables_initializer()\n",
    "\n",
    "    optimizer_step = tf.train.GradientDescentOptimizer(.5).minimize(loss)\n",
    "\n",
    "    \n",
    "    print tW1.shape\n",
    "    print tW2.shape\n",
    "    print tW3.shape\n",
    "    print tb1.shape\n",
    "    print tb2.shape\n",
    "    print tb3.shape\n",
    "    \n",
    "    return tW1, tb1, tW2, tb2, tX, ty,tW3, tb3 , y_hat, loss, init, optimizer_step\n"
   ]
  },
  {
   "cell_type": "code",
   "execution_count": 15,
   "metadata": {},
   "outputs": [
    {
     "name": "stdout",
     "output_type": "stream",
     "text": [
      "(2, 4)\n",
      "(4, 6)\n",
      "(6, 1)\n",
      "(4,)\n",
      "(6,)\n",
      "(1,)\n"
     ]
    }
   ],
   "source": [
    "tW1, tb1, tW2, tb2, tX, ty,tW3, tb3 , y_hat, loss, init,optimizer_step = get_graph()"
   ]
  },
  {
   "cell_type": "markdown",
   "metadata": {},
   "source": [
    "### Optimización"
   ]
  },
  {
   "cell_type": "code",
   "execution_count": 17,
   "metadata": {},
   "outputs": [
    {
     "name": "stderr",
     "output_type": "stream",
     "text": [
      "100% (4999 of 4999) |#####################| Elapsed Time: 0:00:04 Time: 0:00:04\n"
     ]
    }
   ],
   "source": [
    "optimizer_gd = tf.train.GradientDescentOptimizer(.5).minimize(loss)\n",
    "\n",
    "init = tf.global_variables_initializer()\n",
    "\n",
    "loss_hist = []\n",
    "steps = 5000\n",
    "\n",
    "with tf.Session() as sess:\n",
    "    sess.run(init)\n",
    "    \n",
    "    for i in mlutils.pbar()(xrange(1,steps)):\n",
    "        # parameter update\n",
    "        sess.run(optimizer_gd, feed_dict={tX: X, ty: y.reshape(-1,1)})\n",
    "        # history\n",
    "        if i%10==0:\n",
    "            loss_val = sess.run(loss, feed_dict={tX: X, ty: y.reshape(-1,1)})\n",
    "            loss_hist.append(loss_val)\n",
    "        \n",
    "    val_W1, val_W2, val_W3, val_b1, val_b2, val_b3 = sess.run([tW1, tW2, tW3, tb1, tb2, tb3])"
   ]
  },
  {
   "cell_type": "code",
   "execution_count": 18,
   "metadata": {},
   "outputs": [
    {
     "data": {
      "text/plain": [
       "[<matplotlib.lines.Line2D at 0x7f2fbc52db90>]"
      ]
     },
     "execution_count": 18,
     "metadata": {},
     "output_type": "execute_result"
    },
    {
     "data": {
      "image/png": "[encoded data removed]",
      "text/plain": [
       "<Figure size 432x288 with 1 Axes>"
      ]
     },
     "metadata": {},
     "output_type": "display_data"
    }
   ],
   "source": [
    "plt.plot(loss_hist)"
   ]
  },
  {
   "cell_type": "markdown",
   "metadata": {},
   "source": [
    "### Predicción\n",
    "\n",
    "your prediction boundary should look more complex than the single layer neural network seen in the notes. For instance (although not exacly like this):\n",
    "\n",
    "![AA](Images/lab_lowlevel_01.png)\n"
   ]
  },
  {
   "cell_type": "code",
   "execution_count": 19,
   "metadata": {},
   "outputs": [],
   "source": [
    "def predict(X):\n",
    "    with tf.Session() as sess:\n",
    "        preds = sess.run(y_hat, feed_dict={tX: X,  \n",
    "                                           tW1: val_W1, tW2: val_W2, tW3: val_W3, \n",
    "                                           tb1: val_b1, tb2: val_b2, tb3: val_b3})\n",
    "    return (preds[:,0]>.5).astype(int)"
   ]
  },
  {
   "cell_type": "code",
   "execution_count": 20,
   "metadata": {},
   "outputs": [
    {
     "data": {
      "text/plain": [
       "(0.5775, 0.4225)"
      ]
     },
     "execution_count": 20,
     "metadata": {},
     "output_type": "execute_result"
    },
    {
     "data": {
      "image/png": "[encoded data removed]",
      "text/plain": [
       "<Figure size 432x288 with 1 Axes>"
      ]
     },
     "metadata": {},
     "output_type": "display_data"
    }
   ],
   "source": [
    "mlutils.plot_2Ddata_with_boundary(predict, X, y)"
   ]
  },
  {
   "cell_type": "code",
   "execution_count": null,
   "metadata": {},
   "outputs": [],
   "source": []
  }
 ],
 "metadata": {
  "kernelspec": {
   "display_name": "Python 2",
   "language": "python",
   "name": "python2"
  },
  "language_info": {
   "codemirror_mode": {
    "name": "ipython",
    "version": 2
   },
   "file_extension": ".py",
   "mimetype": "text/x-python",
   "name": "python",
   "nbconvert_exporter": "python",
   "pygments_lexer": "ipython2",
   "version": "2.7.14"
  }
 },
 "nbformat": 4,
 "nbformat_minor": 2
}
