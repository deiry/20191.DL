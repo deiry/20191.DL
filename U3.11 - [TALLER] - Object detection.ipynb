{
 "cells": [
  {
   "cell_type": "markdown",
   "metadata": {},
   "source": [
    "# Object detection lab\n",
    "\n",
    "Understand the intuition behind object detection here:\n",
    "\n",
    "- http://vision.stanford.edu/teaching/cs231b_spring1415/slides/ssearch_schuyler.pdf\n",
    "\n",
    "\n",
    "- [A Step-by-Step Introduction to the Basic Object Detection Algorithms (Part 1)](https://www.analyticsvidhya.com/blog/2018/10/a-step-by-step-introduction-to-the-basic-object-detection-algorithms-part-1/)\n",
    "- [A Practical Implementation of the Faster R-CNN Algorithm for Object Detection (Part 2 – with Python codes)\n",
    "](https://www.analyticsvidhya.com/blog/2018/11/implementation-faster-r-cnn-python-object-detection/)\n",
    "- [A Practical Guide to Object Detection using the Popular YOLO Framework – Part III (with Python codes)](https://www.analyticsvidhya.com/blog/2018/12/practical-guide-object-detection-yolo-framewor-python/)"
   ]
  },
  {
   "cell_type": "code",
   "execution_count": null,
   "metadata": {},
   "outputs": [],
   "source": [
    "from libraries import detection\n",
    "import matplotlib.pyplot as plt\n",
    "import numpy as np\n",
    "%matplotlib inline\n",
    "from matplotlib.patches import Rectangle \n",
    "from skimage.transform import resize"
   ]
  },
  {
   "cell_type": "code",
   "execution_count": null,
   "metadata": {},
   "outputs": [],
   "source": [
    "def show_boxes(img, boxes):\n",
    "    fig = plt.figure(figsize=(10,10))\n",
    "    ax = plt.subplot(111)\n",
    "    ax.imshow(img)\n",
    "    for i in range(len(boxes)):\n",
    "        b = boxes[i]\n",
    "        w,h = b[2]-b[0], b[3]-b[1]\n",
    "        if w*h<100:\n",
    "            continue\n",
    "        rect = Rectangle((b[0],b[1]), w, h, linewidth=2, edgecolor='r',facecolor='none')\n",
    "        ax.add_patch(rect)\n",
    "\n",
    "    plt.axis(\"off\")\n",
    "    "
   ]
  },
  {
   "cell_type": "markdown",
   "metadata": {},
   "source": [
    "## Running selective seearch\n",
    "\n",
    "observe how selective search computes a set of suggested boxes possibly containing objects.\n",
    "\n",
    "inspect the contents of the numpy array with the selected boxes."
   ]
  },
  {
   "cell_type": "code",
   "execution_count": null,
   "metadata": {},
   "outputs": [],
   "source": [
    "img = plt.imread(\"Images/cars-driving.jpg\")\n",
    "bb = detection.selective_search(img, ks=[700])\n",
    "print bb.shape"
   ]
  },
  {
   "cell_type": "code",
   "execution_count": null,
   "metadata": {},
   "outputs": [],
   "source": [
    "show_boxes(img, bb)"
   ]
  },
  {
   "cell_type": "markdown",
   "metadata": {},
   "source": [
    "## Part 1: Run pretrained alexnet finetuned model on patches\n",
    "\n",
    "- load the alexnet finetuned model obtained in the Transfer Learning notes\n",
    "- for each box extract a patch from the image\n",
    "- resize all patches, use [skimage.transform.resize](http://scikit-image.org/docs/dev/api/skimage.transform.html#skimage.transform.resize)\n",
    "- run the model\n",
    "- select the patches with class **car**\n",
    "- show all boxes with car detections\n",
    "- do not include patches with small areas (less than 100 px^2)\n",
    "\n",
    "To run the model your are suggested to:\n",
    "\n",
    "- first gather all resized patches in a single array\n",
    "- call only once `model.predict`\n",
    "\n",
    "Observe that the `predict` function on the model will yield the class probabilities. Simply select the class with highest proabability on each image.\n",
    "\n",
    "You may get something like the following image, with the **car** patches overimposed. You result might differ.\n",
    "\n",
    "![](./Images/lab_dectection_02.png)"
   ]
  },
  {
   "cell_type": "code",
   "execution_count": null,
   "metadata": {},
   "outputs": [],
   "source": [
    "## load model\n",
    "\n",
    "from tensorflow.keras.models import load_model\n",
    "\n",
    "model = ..."
   ]
  },
  {
   "cell_type": "markdown",
   "metadata": {},
   "source": [
    "make list of patches from selective search boxes"
   ]
  },
  {
   "cell_type": "code",
   "execution_count": null,
   "metadata": {},
   "outputs": [],
   "source": [
    "rpatches = []\n",
    "for i in mlutils.pbar()(range(len(bb))):\n",
    "    ...\n"
   ]
  },
  {
   "cell_type": "code",
   "execution_count": null,
   "metadata": {},
   "outputs": [],
   "source": [
    "rboxes = np.r_[rboxes]\n",
    "rboxes.shape"
   ]
  },
  {
   "cell_type": "markdown",
   "metadata": {},
   "source": [
    "get the model class predictions (you will get probabilities and need to transform them to classes)"
   ]
  },
  {
   "cell_type": "code",
   "execution_count": null,
   "metadata": {},
   "outputs": [],
   "source": [
    "bpreds = model..."
   ]
  },
  {
   "cell_type": "markdown",
   "metadata": {},
   "source": [
    "select the predictions with cars"
   ]
  },
  {
   "cell_type": "code",
   "execution_count": null,
   "metadata": {},
   "outputs": [],
   "source": [
    "bcars = bb[bpreds==1]\n",
    "bcars.shape"
   ]
  },
  {
   "cell_type": "code",
   "execution_count": null,
   "metadata": {},
   "outputs": [],
   "source": [
    "show_boxes(img, bcars)"
   ]
  },
  {
   "cell_type": "markdown",
   "metadata": {},
   "source": [
    "## Part 2: Devise some strategy to filter and merge patches\n",
    "\n",
    "- remove patches that intersect with many (likely to be too large)\n",
    "- remove patches that intersect with too few (objects are likely to produce several patches)\n",
    "- merge patches that overlap more than 50% of any of the two\n",
    "- any other strategy you might devise\n",
    "\n",
    "Observe that your result **will not be perfect**. This is OK, since we are using a classifier trained with a small dataset.\n",
    "\n",
    "This is a possible outcome\n",
    "\n",
    "![](./Images/lab_dectection_01.png)"
   ]
  },
  {
   "cell_type": "code",
   "execution_count": null,
   "metadata": {},
   "outputs": [],
   "source": [
    "... your code here ..."
   ]
  },
  {
   "cell_type": "code",
   "execution_count": null,
   "metadata": {},
   "outputs": [],
   "source": [
    "sbcars = bcars[... some selection criteria ...]\n"
   ]
  },
  {
   "cell_type": "code",
   "execution_count": null,
   "metadata": {},
   "outputs": [],
   "source": [
    "show_boxes(img, sbcars)"
   ]
  },
  {
   "cell_type": "code",
   "execution_count": null,
   "metadata": {},
   "outputs": [],
   "source": []
  }
 ],
 "metadata": {
  "kernelspec": {
   "display_name": "Python 2",
   "language": "python",
   "name": "python2"
  },
  "language_info": {
   "codemirror_mode": {
    "name": "ipython",
    "version": 2
   },
   "file_extension": ".py",
   "mimetype": "text/x-python",
   "name": "python",
   "nbconvert_exporter": "python",
   "pygments_lexer": "ipython2",
   "version": "2.7.15"
  }
 },
 "nbformat": 4,
 "nbformat_minor": 2
}
