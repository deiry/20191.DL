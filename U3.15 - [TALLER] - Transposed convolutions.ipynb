{
 "cells": [
  {
   "cell_type": "code",
   "execution_count": 1,
   "metadata": {},
   "outputs": [],
   "source": [
    "import numpy as np\n",
    "import matplotlib.pyplot as plt\n",
    "import tensorflow as tf\n",
    "import pickle, bz2\n",
    "from skimage import io, transform\n",
    "%matplotlib inline"
   ]
  },
  {
   "cell_type": "markdown",
   "metadata": {},
   "source": [
    "# Lab: convolution matrix for convolution and transposed convolutions\n",
    "\n",
    "Read and understand well how the convolution matrix is built: [Up-sampling with Transposed Convolution](https://towardsdatascience.com/up-sampling-with-transposed-convolution-9ae4f2df52d0)\n",
    "\n",
    "Observe how a 2d convolution is done with a `tf.layers.conv2d` Keras layer (with linear activation and zero bias)"
   ]
  },
  {
   "cell_type": "code",
   "execution_count": 2,
   "metadata": {},
   "outputs": [
    {
     "data": {
      "text/plain": [
       "<matplotlib.image.AxesImage at 0x7f508d5e6f50>"
      ]
     },
     "execution_count": 2,
     "metadata": {},
     "output_type": "execute_result"
    },
    {
     "data": {
      "image/png": "[encoded data removed]",
      "text/plain": [
       "<Figure size 432x288 with 1 Axes>"
      ]
     },
     "metadata": {},
     "output_type": "display_data"
    }
   ],
   "source": [
    "simg = np.r_[[[4,5,8,7],[1,8,8,8],[3,6,6,4],[6,5,7,8]]]\n",
    "akernel = np.r_[[[1,4,1],[1,4,3],[3,3,1]]]\n",
    "\n",
    "#simg = np.random.randint(10, size=(10,6))\n",
    "#akernel = np.random.randint(10, size=(5,5))+1\n",
    "\n",
    "plt.imshow(simg)\n"
   ]
  },
  {
   "cell_type": "code",
   "execution_count": 3,
   "metadata": {},
   "outputs": [],
   "source": [
    "tf.reset_default_graph()\n",
    "\n",
    "tX    = tf.placeholder(tf.float32, shape=[None] + list(simg.shape)+[1], name=\"X\")\n",
    "layer = tf.layers.conv2d(tX, filters=1, kernel_size=akernel.shape, \n",
    "                         kernel_initializer=tf.initializers.constant(akernel),\n",
    "                         bias_initializer=tf.initializers.constant([0]), \n",
    "                         activation=\"linear\")\n",
    "\n",
    "init  = tf.global_variables_initializer()"
   ]
  },
  {
   "cell_type": "code",
   "execution_count": 4,
   "metadata": {},
   "outputs": [],
   "source": [
    "with tf.Session() as sess:\n",
    "    sess.run(init)\n",
    "    routput = sess.run(layer, feed_dict={tX: simg.reshape([-1]+list(simg.shape)+[1])})"
   ]
  },
  {
   "cell_type": "code",
   "execution_count": 5,
   "metadata": {},
   "outputs": [
    {
     "name": "stdout",
     "output_type": "stream",
     "text": [
      "[[122. 148.]\n",
      " [126. 134.]]\n"
     ]
    }
   ],
   "source": [
    "print routput[0,:,:,0]"
   ]
  },
  {
   "cell_type": "code",
   "execution_count": 6,
   "metadata": {},
   "outputs": [
    {
     "data": {
      "text/plain": [
       "<matplotlib.image.AxesImage at 0x7f508c4daad0>"
      ]
     },
     "execution_count": 6,
     "metadata": {},
     "output_type": "execute_result"
    },
    {
     "data": {
      "image/png": "[encoded data removed]",
      "text/plain": [
       "<Figure size 432x288 with 1 Axes>"
      ]
     },
     "metadata": {},
     "output_type": "display_data"
    }
   ],
   "source": [
    "plt.imshow(routput[0,:,:,0], cmap=plt.cm.Greys_r)"
   ]
  },
  {
   "cell_type": "markdown",
   "metadata": {},
   "source": [
    "## Part 1: Create the convolution matrix\n",
    "\n",
    "fill in the following function to create a convolution matrix.\n",
    "\n",
    "given:\n",
    "\n",
    "- an input image of dimensions $h\\times w$\n",
    "- a squared filter (kernel) of dimensions $k \\times k$\n",
    "- no padding used\n",
    "\n",
    "the resulting convolution matrix must have dimensions \n",
    "\n",
    "$$(h-k+1)(w-k+1) \\times hw$$\n",
    "\n",
    "suggestions:\n",
    "\n",
    "- start with the same input image and kernel as in the example in [Up-sampling with Transposed Convolution](https://towardsdatascience.com/up-sampling-with-transposed-convolution-9ae4f2df52d0):\n",
    "    \n",
    "       simg = np.r_[[[4,5,8,7],[1,8,8,8],[3,6,6,4],[6,5,7,8]]]\n",
    "       kernel = np.r_[[[1,4,1],[1,4,3],[3,3,1]]]\n",
    "       \n",
    "- test with random imgs and kernels (as in the code above) with increasing dimensions and images with different width and height"
   ]
  },
  {
   "cell_type": "code",
   "execution_count": 7,
   "metadata": {},
   "outputs": [],
   "source": [
    "def get_convmatrix(input_shape, kernel):\n",
    "    dx, dy = np.r_[input_shape[0] - kernel.shape[0]+1, input_shape[1] - kernel.shape[1]+1]\n",
    "    cm = np.zeros((np.product(input_shape), dx*dy)).T\n",
    "\n",
    "    .....\n",
    "    \n",
    "    return cm"
   ]
  },
  {
   "cell_type": "code",
   "execution_count": 8,
   "metadata": {},
   "outputs": [
    {
     "data": {
      "text/plain": [
       "(4, 16)"
      ]
     },
     "execution_count": 8,
     "metadata": {},
     "output_type": "execute_result"
    }
   ],
   "source": [
    "cm = get_convmatrix(simg.shape, akernel)\n",
    "cm.shape"
   ]
  },
  {
   "cell_type": "code",
   "execution_count": 9,
   "metadata": {},
   "outputs": [
    {
     "data": {
      "text/plain": [
       "array([[1., 4., 1., 0., 1., 4., 3., 0., 3., 3., 1., 0., 0., 0., 0., 0.],\n",
       "       [0., 1., 4., 1., 0., 1., 4., 3., 0., 3., 3., 1., 0., 0., 0., 0.],\n",
       "       [0., 0., 0., 0., 1., 4., 1., 0., 1., 4., 3., 0., 3., 3., 1., 0.],\n",
       "       [0., 0., 0., 0., 0., 1., 4., 1., 0., 1., 4., 3., 0., 3., 3., 1.]])"
      ]
     },
     "execution_count": 9,
     "metadata": {},
     "output_type": "execute_result"
    }
   ],
   "source": [
    "cm"
   ]
  },
  {
   "cell_type": "markdown",
   "metadata": {},
   "source": [
    "## Part 2: use the convolution matrix above to make a 2d convolution\n",
    "\n",
    "must call the previous `get_convmatrix` and use a single matrix multiplication operation"
   ]
  },
  {
   "cell_type": "code",
   "execution_count": 10,
   "metadata": {},
   "outputs": [],
   "source": [
    "def conv2d(img,kernel):\n",
    "    cm = get_convmatrix(...)\n",
    "    ...\n",
    "    moutput = ....\n",
    "    return moutput\n"
   ]
  },
  {
   "cell_type": "code",
   "execution_count": 11,
   "metadata": {},
   "outputs": [
    {
     "data": {
      "text/plain": [
       "array([[122., 148.],\n",
       "       [126., 134.]])"
      ]
     },
     "execution_count": 11,
     "metadata": {},
     "output_type": "execute_result"
    }
   ],
   "source": [
    "moutput = conv2d(simg, akernel)\n",
    "moutput"
   ]
  },
  {
   "cell_type": "markdown",
   "metadata": {},
   "source": [
    "the following must come out `True`"
   ]
  },
  {
   "cell_type": "code",
   "execution_count": 12,
   "metadata": {},
   "outputs": [
    {
     "data": {
      "text/plain": [
       "True"
      ]
     },
     "execution_count": 12,
     "metadata": {},
     "output_type": "execute_result"
    }
   ],
   "source": [
    "np.allclose(routput, moutput.reshape(routput.shape))"
   ]
  },
  {
   "cell_type": "markdown",
   "metadata": {},
   "source": [
    "## Part 3: make a transposed 2d convolution using `tf.layers.conv2d_transpose`"
   ]
  },
  {
   "cell_type": "code",
   "execution_count": 13,
   "metadata": {},
   "outputs": [
    {
     "data": {
      "text/plain": [
       "array([[ 4, 10],\n",
       "       [ 7,  5]])"
      ]
     },
     "execution_count": 13,
     "metadata": {},
     "output_type": "execute_result"
    }
   ],
   "source": [
    "small_img = np.random.randint(10, size=(2,2))+1\n",
    "small_img"
   ]
  },
  {
   "cell_type": "code",
   "execution_count": 14,
   "metadata": {},
   "outputs": [],
   "source": [
    "def TF_conv2d_transpose(img, kernel):\n",
    "    tf.reset_default_graph()\n",
    "\n",
    "    tX    = tf.placeholder(...)\n",
    "    layer = tf.layers.conv2d_transpose(...)\n",
    "\n",
    "    init  = tf.global_variables_initializer()\n",
    "    \n",
    "    with tf.Session() as sess:\n",
    "        sess.run(init)\n",
    "        routput = sess.run(...)\n",
    "        \n",
    "    return routput"
   ]
  },
  {
   "cell_type": "code",
   "execution_count": 15,
   "metadata": {},
   "outputs": [],
   "source": [
    "routput = TF_conv2d_transpose(small_img, akernel)"
   ]
  },
  {
   "cell_type": "code",
   "execution_count": 16,
   "metadata": {},
   "outputs": [
    {
     "data": {
      "text/plain": [
       "array([[ 4., 26., 44., 10.],\n",
       "       [11., 59., 79., 35.],\n",
       "       [19., 75., 75., 25.],\n",
       "       [21., 36., 22.,  5.]], dtype=float32)"
      ]
     },
     "execution_count": 16,
     "metadata": {},
     "output_type": "execute_result"
    }
   ],
   "source": [
    "routput[0,:,:,0]"
   ]
  },
  {
   "cell_type": "markdown",
   "metadata": {},
   "source": [
    "## Part 4: Make a transposed 2d convolution using the convolution matrix above\n",
    "\n",
    "your result must be exactly the same as previous part"
   ]
  },
  {
   "cell_type": "code",
   "execution_count": 17,
   "metadata": {},
   "outputs": [],
   "source": [
    "def conv2d_transpose(img, kernel):\n",
    "    cm = get_convmatrix(...)\n",
    "    ...\n",
    "    return ...\n",
    "    "
   ]
  },
  {
   "cell_type": "code",
   "execution_count": 18,
   "metadata": {},
   "outputs": [
    {
     "data": {
      "text/plain": [
       "array([[ 4., 26., 44., 10.],\n",
       "       [11., 59., 79., 35.],\n",
       "       [19., 75., 75., 25.],\n",
       "       [21., 36., 22.,  5.]])"
      ]
     },
     "execution_count": 18,
     "metadata": {},
     "output_type": "execute_result"
    }
   ],
   "source": [
    "moutput = conv2d_transpose(small_img, akernel)\n",
    "moutput"
   ]
  },
  {
   "cell_type": "code",
   "execution_count": 19,
   "metadata": {},
   "outputs": [
    {
     "data": {
      "text/plain": [
       "True"
      ]
     },
     "execution_count": 19,
     "metadata": {},
     "output_type": "execute_result"
    }
   ],
   "source": [
    "np.allclose(routput[0,:,:,0], moutput )"
   ]
  },
  {
   "cell_type": "code",
   "execution_count": null,
   "metadata": {},
   "outputs": [],
   "source": []
  }
 ],
 "metadata": {
  "kernelspec": {
   "display_name": "Python 2",
   "language": "python",
   "name": "python2"
  },
  "language_info": {
   "codemirror_mode": {
    "name": "ipython",
    "version": 2
   },
   "file_extension": ".py",
   "mimetype": "text/x-python",
   "name": "python",
   "nbconvert_exporter": "python",
   "pygments_lexer": "ipython2",
   "version": "2.7.14"
  }
 },
 "nbformat": 4,
 "nbformat_minor": 2
}
