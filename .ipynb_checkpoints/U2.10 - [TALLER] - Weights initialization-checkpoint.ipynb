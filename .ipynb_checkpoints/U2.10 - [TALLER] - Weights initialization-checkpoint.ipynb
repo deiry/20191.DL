{
 "cells": [
  {
   "cell_type": "markdown",
   "metadata": {},
   "source": [
    "## LAB Weights initizialization\n",
    "\n",
    "perform the following experiments following the code in the corresponding Weights Initialization notebook:\n",
    "\n",
    "- with $\\sigma$=0.001\n",
    "- with $\\sigma$=100\n",
    "\n",
    "using **no scaling** of input data and keeping the rest of parameters (network structure, epochs, etc.).\n",
    "\n",
    "\n",
    "**<font color=\"red\">USE TENSORBOARD</font>** to record your experiments and **<font color=\"red\">include in this notebook screenshots</font>** from tensorboard's visualization of your experiments. In particular include, for each experiment:\n",
    "\n",
    "- the **scalar** chart of train and test accuracy\n",
    "- the **histograms** of weights, biases and their respective gradients of layer_0\n",
    "- the **distributions** of weights, biases and their respective gradients of layer_0\n",
    "\n",
    "Then **<font color=\"red\">ADD YOUR INTERPRETATION EXPLAINING THE OBSERVED BEHAVIOURS</font>**\n",
    "\n",
    "**<font color=\"red\">THIS NOTEBOOK MUST INCLUDE YOUR CODE TO REPRODUCE YOUR EXPERIMENTS</font>** \n",
    "\n",
    "The charts should look roughly like this\n",
    "\n",
    "![alt text](./Images/lab_winit_01.png)\n",
    "![alt text](./Images/lab_winit_02.png)\n",
    "![alt text](./Images/lab_winit_03.png)\n"
   ]
  },
  {
   "cell_type": "code",
   "execution_count": 3,
   "metadata": {},
   "outputs": [],
   "source": [
    "from tensorflow.keras import Sequential, Model\n",
    "from tensorflow.keras.layers import Dense, Dropout, Flatten, concatenate, Input\n",
    "from tensorflow.keras.backend import clear_session\n",
    "from tensorflow import keras\n",
    "import tensorflow as tf\n",
    "import tensorflow.keras.backend as K\n",
    "import pandas as pd\n"
   ]
  },
  {
   "cell_type": "code",
   "execution_count": null,
   "metadata": {},
   "outputs": [],
   "source": [
    "mnist = pd.read_csv(\"data/mnist1.5k.csv.gz\", compression=\"gzip\", header=None).values\n",
    "X=mnist[:,1:785]/255.\n",
    "y=mnist[:,0]\n",
    "print \"dimension de las imagenes y las clases\", X.shape, y.shape\n",
    "\n",
    "from sklearn.model_selection import train_test_split\n",
    "X_train, X_test, y_train, y_test = train_test_split(X, y, test_size=.2)\n",
    "X_train = X_train\n",
    "X_test  = X_test\n",
    "y_train_oh = np.eye(10)[y_train]\n",
    "y_test_oh  = np.eye(10)[y_test]\n",
    "print X_train.shape, y_train_oh.shape"
   ]
  },
  {
   "cell_type": "code",
   "execution_count": null,
   "metadata": {},
   "outputs": [],
   "source": [
    "def get_model(input_dim=784, output_dim=10, layer_sizes=[10]*6, activation=\"relu\", sigma=1):\n",
    "    \n",
    "\n",
    "    clear_session()\n",
    "    model = Sequential()\n",
    "    init1k = keras.initializers.RandomNormal(mean=.0, stddev=sigma, seed=None)\n",
    "    init1b = keras.initializers.RandomNormal(mean=.0, stddev=sigma, seed=None)\n",
    "\n",
    "    model.add(Dense(layer_sizes[0], activation=activation, input_dim=input_dim, name=\"Layer_%02d_Input\"%(0),\n",
    "                    kernel_initializer=init1k,\n",
    "                    bias_initializer=init1b\n",
    "                ))\n",
    "\n",
    "   \n",
    "    for i, hsize in enumerate(layer_sizes[1:]):\n",
    "        model.add(Dense(hsize, activation=activation, name=\"Layer_%02d_Hidden\"%(i+1)))\n",
    "   \n",
    "    model.add(Dense(output_dim, activation=\"softmax\", name=\"Layer_%02d_Output\"%(len(layer_sizes))))\n",
    "        \n",
    "    model.compile(optimizer='adam', loss='categorical_crossentropy', metrics=['accuracy'])\n",
    "    model.reset_states()\n",
    "    return model"
   ]
  }
 ],
 "metadata": {
  "kernelspec": {
   "display_name": "Python 2",
   "language": "python",
   "name": "python2"
  },
  "language_info": {
   "codemirror_mode": {
    "name": "ipython",
    "version": 2
   },
   "file_extension": ".py",
   "mimetype": "text/x-python",
   "name": "python",
   "nbconvert_exporter": "python",
   "pygments_lexer": "ipython2",
   "version": "2.7.14"
  }
 },
 "nbformat": 4,
 "nbformat_minor": 2
}
