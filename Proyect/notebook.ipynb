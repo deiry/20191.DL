{
 "cells": [
  {
   "cell_type": "code",
   "execution_count": 1,
   "metadata": {},
   "outputs": [],
   "source": [
    "from tensorflow.keras.layers import Input, Conv2D, MaxPooling2D, UpSampling2D, ZeroPadding2D\n",
    "from tensorflow.keras import Model\n",
    "from tensorflow.keras.callbacks import TensorBoard\n",
    "from tensorflow.keras.datasets import mnist\n",
    "import matplotlib.pyplot as plt\n",
    "from sklearn.model_selection import train_test_split\n",
    "from skimage import io, transform\n",
    "from skimage.io import imread\n",
    "from tensorflow.keras.models import load_model\n",
    "import numpy as np\n",
    "import cv2\n",
    "from sklearn.metrics import label_ranking_average_precision_score\n",
    "import time\n",
    "%matplotlib inline\n"
   ]
  },
  {
   "cell_type": "code",
   "execution_count": null,
   "metadata": {},
   "outputs": [],
   "source": [
    "PATH = \n",
    "img = imread()\n",
    "\n",
    "train, test = train_test_split(df, test_size=0.2)"
   ]
  },
  {
   "cell_type": "code",
   "execution_count": 3,
   "metadata": {},
   "outputs": [],
   "source": [
    "(x_train, y_train), (x_test, y_test) = mnist.load_data()\n",
    "\n",
    "x_train = x_train.astype('float32') / 255.\n",
    "x_test = x_test.astype('float32') / 255.\n",
    "x_train = np.reshape(x_train, (len(x_train), 28, 28, 1))  # adapt this if using `channels_first` image data format\n",
    "x_test = np.reshape(x_test, (len(x_test), 28, 28, 1))  # adapt this if using `channels_first` image data format\n",
    "\n",
    "noise_factor = 0.5\n",
    "x_train_noisy = x_train + noise_factor * np.random.normal(loc=0.0, scale=1.0, size=x_train.shape)\n",
    "x_test_noisy = x_test + noise_factor * np.random.normal(loc=0.0, scale=1.0, size=x_test.shape)\n",
    "\n",
    "x_train_noisy = np.clip(x_train_noisy, 0., 1.)\n",
    "x_test_noisy = np.clip(x_test_noisy, 0., 1.)"
   ]
  },
  {
   "cell_type": "code",
   "execution_count": 4,
   "metadata": {},
   "outputs": [
    {
     "name": "stdout",
     "output_type": "stream",
     "text": [
      "Train on 60000 samples, validate on 10000 samples\n",
      "Epoch 1/20\n",
      "60000/60000 [==============================] - 62s 1ms/step - loss: 0.2406 - val_loss: 0.1981\n",
      "Epoch 2/20\n",
      "60000/60000 [==============================] - 60s 1ms/step - loss: 0.1784 - val_loss: 0.1639\n",
      "Epoch 3/20\n",
      "60000/60000 [==============================] - 60s 999us/step - loss: 0.1627 - val_loss: 0.1558\n",
      "Epoch 4/20\n",
      "60000/60000 [==============================] - 60s 1ms/step - loss: 0.1548 - val_loss: 0.1534\n",
      "Epoch 5/20\n",
      "60000/60000 [==============================] - 60s 992us/step - loss: 0.1497 - val_loss: 0.1450\n",
      "Epoch 6/20\n",
      "60000/60000 [==============================] - 59s 989us/step - loss: 0.1460 - val_loss: 0.1412\n",
      "Epoch 7/20\n",
      "60000/60000 [==============================] - 59s 986us/step - loss: 0.1432 - val_loss: 0.1419\n",
      "Epoch 8/20\n",
      "60000/60000 [==============================] - 59s 990us/step - loss: 0.1410 - val_loss: 0.1481\n",
      "Epoch 9/20\n",
      "60000/60000 [==============================] - 60s 993us/step - loss: 0.1388 - val_loss: 0.1357\n",
      "Epoch 10/20\n",
      "60000/60000 [==============================] - 59s 992us/step - loss: 0.1370 - val_loss: 0.1328\n",
      "Epoch 11/20\n",
      "60000/60000 [==============================] - 59s 991us/step - loss: 0.1358 - val_loss: 0.1353\n",
      "Epoch 12/20\n",
      "60000/60000 [==============================] - 60s 993us/step - loss: 0.1345 - val_loss: 0.1312\n",
      "Epoch 13/20\n",
      "60000/60000 [==============================] - 60s 992us/step - loss: 0.1332 - val_loss: 0.1304\n",
      "Epoch 14/20\n",
      "60000/60000 [==============================] - 60s 994us/step - loss: 0.1323 - val_loss: 0.1313\n",
      "Epoch 15/20\n",
      "60000/60000 [==============================] - 60s 993us/step - loss: 0.1314 - val_loss: 0.1302\n",
      "Epoch 16/20\n",
      "60000/60000 [==============================] - 60s 993us/step - loss: 0.1304 - val_loss: 0.1327\n",
      "Epoch 17/20\n",
      "60000/60000 [==============================] - 60s 992us/step - loss: 0.1299 - val_loss: 0.1287\n",
      "Epoch 18/20\n",
      "60000/60000 [==============================] - 60s 993us/step - loss: 0.1295 - val_loss: 0.1269\n",
      "Epoch 19/20\n",
      "60000/60000 [==============================] - 60s 993us/step - loss: 0.1290 - val_loss: 0.1307\n",
      "Epoch 20/20\n",
      "60000/60000 [==============================] - 60s 993us/step - loss: 0.1286 - val_loss: 0.1253\n"
     ]
    }
   ],
   "source": [
    "def train_model():\n",
    "    input_img = Input(shape=(28, 28, 1))  # adapt this if using `channels_first` image data format\n",
    "    x = Conv2D(16, (3, 3), activation='relu', padding='same')(input_img)\n",
    "    x = MaxPooling2D((2, 2), padding='same')(x)\n",
    "    x = Conv2D(8, (3, 3), activation='relu', padding='same')(x)\n",
    "    x = MaxPooling2D((2, 2), padding='same')(x)\n",
    "    x = Conv2D(8, (3, 3), activation='relu', padding='same')(x)\n",
    "    encoded = MaxPooling2D((2, 2), padding='same', name='encoder')(x)\n",
    "\n",
    "    # at this point the representation is (4, 4, 8) i.e. 128-dimensional\n",
    "\n",
    "    x = Conv2D(8, (3, 3), activation='relu', padding='same')(encoded)\n",
    "    x = UpSampling2D((2, 2))(x)\n",
    "    x = Conv2D(8, (3, 3), activation='relu', padding='same')(x)\n",
    "    x = UpSampling2D((2, 2))(x)\n",
    "    x = Conv2D(16, (3, 3), activation='relu')(x)\n",
    "    x = UpSampling2D((2, 2))(x)\n",
    "    decoded = Conv2D(1, (3, 3), activation='sigmoid', padding='same')(x)\n",
    "\n",
    "    autoencoder = Model(input_img, decoded)\n",
    "    autoencoder.compile(optimizer='adadelta', loss='binary_crossentropy')\n",
    "\n",
    "    autoencoder.fit(x_train_noisy, x_train,\n",
    "                    epochs=20,\n",
    "                    batch_size=128,\n",
    "                    shuffle=True,\n",
    "                    validation_data=(x_test_noisy, x_test),\n",
    "                    callbacks=[TensorBoard(log_dir='/tmp/tb', histogram_freq=0, write_graph=False)])\n",
    "\n",
    "    autoencoder.save('autoencoder.h5')\n",
    "\n",
    "train_model()"
   ]
  },
  {
   "cell_type": "code",
   "execution_count": 40,
   "metadata": {},
   "outputs": [
    {
     "name": "stdout",
     "output_type": "stream",
     "text": [
      "Loading mnist dataset\n",
      "('mnist dataset loaded in: ', 3.654482841491699)\n",
      "Loading model :\n",
      "('Model loaded in: ', 3.463449001312256)\n"
     ]
    }
   ],
   "source": [
    "print('Loading mnist dataset')\n",
    "t0 = time.time()\n",
    "(x_train, y_train), (x_test, y_test) = mnist.load_data()\n",
    "x_train = x_train.astype('float32') / 255.\n",
    "x_test = x_test.astype('float32') / 255.\n",
    "x_train = np.reshape(x_train, (len(x_train), 28, 28, 1))  # adapt this if using `channels_first` image data format\n",
    "x_test = np.reshape(x_test, (len(x_test), 28, 28, 1))  # adapt this if using `channels_first` image data format\n",
    "\n",
    "noise_factor = 0.3\n",
    "x_train_noisy = x_train + noise_factor * np.random.normal(loc=0.0, scale=1.0, size=x_train.shape)\n",
    "x_test_noisy = x_test + noise_factor * np.random.normal(loc=0.0, scale=1.0, size=x_test.shape)\n",
    "\n",
    "x_train_noisy = np.clip(x_train_noisy, 0., 1.)\n",
    "x_test_noisy = np.clip(x_test_noisy, 0., 1.)\n",
    "t1 = time.time()\n",
    "print('mnist dataset loaded in: ', t1-t0)\n",
    "\n",
    "print('Loading model :')\n",
    "t0 = time.time()\n",
    "# Load previously trained autoencoder\n",
    "autoencoder = load_model('autoencoder.h5')\n",
    "t1 = time.time()\n",
    "print('Model loaded in: ', t1-t0)"
   ]
  },
  {
   "cell_type": "code",
   "execution_count": 41,
   "metadata": {},
   "outputs": [],
   "source": [
    "def plot_denoised_images():\n",
    "    denoised_images = autoencoder.predict(x_test_noisy.reshape(x_test_noisy.shape[0], x_test_noisy.shape[1], x_test_noisy.shape[2],1))\n",
    "    test_img = x_test_noisy[0]\n",
    "   # plt.figure(figsize=(4,2))\n",
    "    plt.figure(figsize=(20,5))\n",
    "    plt.subplot(311)\n",
    "    plt.imshow(test_img.reshape(28,28), cmap=plt.cm.Greys_r)\n",
    "    plt.axis(\"off\")\n",
    "    #resized_test_img = cv2.resize(test_img, (280, 280))\n",
    "    #cv2.imshow('input', resized_test_img)\n",
    "    #cv2.waitKey(0)\n",
    "    output = denoised_images[0]\n",
    "    #plt.figure(figsize=(4,2))\n",
    "    R= test_img[0]-denoised_images[0] \n",
    "    plt.subplot(312)\n",
    "    plt.imshow( output.reshape(28,28), cmap=plt.cm.Greys_r)\n",
    "    plt.axis(\"off\")\n",
    "    \n",
    "    plt.subplot(313)\n",
    "    plt.imshow( R.reshape(28,28), cmap=plt.cm.Greys_r)\n",
    "    plt.axis(\"off\")\n",
    "    \n",
    "    #resized_output = cv2.resize(output, (280, 280))\n",
    "    #cv2.imshow('output', resized_output)\n",
    "    #cv2.waitKey(0)"
   ]
  },
  {
   "cell_type": "code",
   "execution_count": 42,
   "metadata": {},
   "outputs": [
    {
     "data": {
      "image/png": "[encoded data removed]",
      "text/plain": [
       "<Figure size 1440x360 with 3 Axes>"
      ]
     },
     "metadata": {},
     "output_type": "display_data"
    }
   ],
   "source": [
    "plot_denoised_images()"
   ]
  },
  {
   "cell_type": "code",
   "execution_count": null,
   "metadata": {},
   "outputs": [],
   "source": []
  }
 ],
 "metadata": {
  "kernelspec": {
   "display_name": "Python 2",
   "language": "python",
   "name": "python2"
  },
  "language_info": {
   "codemirror_mode": {
    "name": "ipython",
    "version": 2
   },
   "file_extension": ".py",
   "mimetype": "text/x-python",
   "name": "python",
   "nbconvert_exporter": "python",
   "pygments_lexer": "ipython2",
   "version": "2.7.14"
  }
 },
 "nbformat": 4,
 "nbformat_minor": 2
}
